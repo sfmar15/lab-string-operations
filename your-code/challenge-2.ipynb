{
 "cells": [
  {
   "cell_type": "markdown",
   "metadata": {},
   "source": [
    "# Bag of Words Lab\n",
    "\n",
    "## Introduction\n",
    "\n",
    "**Bag of words (BoW)** is an important technique in text mining and [information retrieval](https://en.wikipedia.org/wiki/Information_retrieval). BoW uses term-frequency vectors to represent the content of text documents which makes it possible to use mathematics and computer programs to analyze and compare text documents.\n",
    "\n",
    "BoW contains the following information:\n",
    "\n",
    "1. A dictionary of all the terms (words) in the text documents. The terms are normalized in terms of the letter case (e.g. `Ironhack` => `ironhack`), tense (e.g. `had` => `have`), singular form (e.g. `students` => `student`), etc.\n",
    "1. The number of occurrences of each normalized term in each document.\n",
    "\n",
    "For example, assume we have three text documents:\n",
    "\n",
    "DOC 1: **Ironhack is cool.**\n",
    "\n",
    "DOC 2: **I love Ironhack.**\n",
    "\n",
    "DOC 3: **I am a student at Ironhack.**\n",
    "\n",
    "The BoW of the above documents looks like below:\n",
    "\n",
    "| TERM | DOC 1 | DOC 2 | Doc 3 |\n",
    "|---|---|---|---|\n",
    "| a | 0 | 0 | 1 |\n",
    "| am | 0 | 0 | 1 |\n",
    "| at | 0 | 0 | 1 |\n",
    "| cool | 1 | 0 | 0 |\n",
    "| i | 0 | 1 | 1 |\n",
    "| ironhack | 1 | 1 | 1 |\n",
    "| is | 1 | 0 | 0 |\n",
    "| love | 0 | 1 | 0 |\n",
    "| student | 0 | 0 | 1 |\n",
    "\n",
    "\n",
    "The term-frequency array of each document in BoW can be considered a high-dimensional vector. Data scientists use these vectors to represent the content of the documents. For instance, DOC 1 is represented with `[0, 0, 0, 1, 0, 1, 1, 0, 0]`, DOC 2 is represented with `[0, 0, 0, 0, 1, 1, 0, 1, 0]`, and DOC 3 is represented with `[1, 1, 1, 0, 1, 1, 0, 0, 1]`. **Two documents are considered identical if their vector representations have close [cosine similarity](https://en.wikipedia.org/wiki/Cosine_similarity).**\n",
    "\n",
    "In real practice there are many additional techniques to improve the text mining accuracy such as using [stop words](https://en.wikipedia.org/wiki/Stop_words) (i.e. neglecting common words such as `a`, `I`, `to` that don't contribute much meaning), synonym list (e.g. consider `New York City` the same as `NYC` and `Big Apple`), and HTML tag removal if the data sources are webpages. In Module 3 you will learn how to use those advanced techniques for [natural language processing](https://en.wikipedia.org/wiki/Natural_language_processing), a component of text mining.\n",
    "\n",
    "In real text mining projects data analysts use packages such as Scikit-Learn and NLTK, which you will learn in Module 3, to extract BoW from texts. In this exercise, however, we would like you to create BoW manually with Python. This is because by manually creating BoW you can better understand the concept and also practice the Python skills you have learned so far."
   ]
  },
  {
   "cell_type": "markdown",
   "metadata": {},
   "source": [
    "## The Challenge\n",
    "\n",
    "We need to create a BoW from a list of documents. The documents (`doc1.txt`, `doc2.txt`, and `doc3.txt`) can be found in the `your-code` directory of this exercise. You will read the content of each document into an array of strings named `corpus`.\n",
    "\n",
    "*What is a corpus (plural: corpora)? Read the reference in the README file.*\n",
    "\n",
    "Your challenge is to use Python to generate the BoW of these documents. Your BoW should look like below:\n",
    "\n",
    "```python\n",
    "bag_of_words = ['a', 'am', 'at', 'cool', 'i', 'ironhack', 'is', 'love', 'student']\n",
    "\n",
    "term_freq = [\n",
    "    [0, 0, 0, 1, 0, 1, 1, 0, 0],\n",
    "    [0, 0, 0, 0, 1, 1, 0, 1, 0],\n",
    "    [1, 1, 1, 0, 1, 1, 0, 0, 1],\n",
    "]\n",
    "```\n",
    "\n",
    "Now let's define the `docs` array that contains the paths of `doc1.txt`, `doc2.txt`, and `doc3.txt`."
   ]
  },
  {
   "cell_type": "code",
   "execution_count": 1,
   "metadata": {},
   "outputs": [],
   "source": [
    "docs = ['doc1.txt', 'doc2.txt', 'doc3.txt']"
   ]
  },
  {
   "cell_type": "markdown",
   "metadata": {},
   "source": [
    "Define an empty array `corpus` that will contain the content strings of the docs. Loop `docs` and read the content of each doc into the `corpus` array."
   ]
  },
  {
   "cell_type": "code",
   "execution_count": 2,
   "metadata": {},
   "outputs": [
    {
     "name": "stdout",
     "output_type": "stream",
     "text": [
      "Empty DataFrame\n",
      "Columns: [Ironhack is cool.]\n",
      "Index: []\n"
     ]
    }
   ],
   "source": [
    "# Write your code here\n",
    "import pandas as pd \n",
    "\n",
    "df = pd.DataFrame(pd.read_csv(docs[0]))\n",
    "print(df)\n",
    "\n",
    "for i in range(1,len(docs)):\n",
    "    data = pd.read_csv(docs[i])\n",
    "    df1 = pd.DataFrame(data)\n",
    "    df = pd.concat([df1,df],axis=1)"
   ]
  },
  {
   "cell_type": "markdown",
   "metadata": {},
   "source": [
    "Print `corpus`."
   ]
  },
  {
   "cell_type": "code",
   "execution_count": 3,
   "metadata": {},
   "outputs": [
    {
     "data": {
      "text/plain": [
       "['I am a student at Ironhack.', 'I love Ironhack.', 'Ironhack is cool.']"
      ]
     },
     "execution_count": 3,
     "metadata": {},
     "output_type": "execute_result"
    }
   ],
   "source": [
    "corpus = list(df)\n",
    "corpus"
   ]
  },
  {
   "cell_type": "markdown",
   "metadata": {},
   "source": [
    "You expected to see:\n",
    "\n",
    "```['ironhack is cool', 'i love ironhack', 'i am a student at ironhack']```\n",
    "\n",
    "But you actually saw:\n",
    "\n",
    "```['Ironhack is cool.', 'I love Ironhack.', 'I am a student at Ironhack.']```\n",
    "\n",
    "This is because you haven't done two important steps:\n",
    "\n",
    "1. Remove punctuation from the strings\n",
    "\n",
    "1. Convert strings to lowercase\n",
    "\n",
    "Write your code below to process `corpus` (convert to lower case and remove special characters)."
   ]
  },
  {
   "cell_type": "code",
   "execution_count": 4,
   "metadata": {},
   "outputs": [
    {
     "name": "stdout",
     "output_type": "stream",
     "text": [
      "['i', 'am', 'a', 'student', 'at', 'ironhack', 'i', 'love', 'ironhack', 'ironhack', 'is', 'cool']\n"
     ]
    }
   ],
   "source": [
    "# Write your code here\n",
    "c = str(corpus)\n",
    "corpus_lower= str((c.lower()))\n",
    "\n",
    "import re\n",
    "rule = \"\\w+\"\n",
    "low = re.findall(rule, corpus_lower)\n",
    "print(low)"
   ]
  },
  {
   "cell_type": "markdown",
   "metadata": {},
   "source": [
    "Now define `bag_of_words` as an empty array. It will be used to store the unique terms in `corpus`."
   ]
  },
  {
   "cell_type": "code",
   "execution_count": 5,
   "metadata": {},
   "outputs": [],
   "source": [
    "bag_of_words = []"
   ]
  },
  {
   "cell_type": "markdown",
   "metadata": {},
   "source": [
    "Loop through `corpus`. In each loop, do the following:\n",
    "\n",
    "1. Break the string into an array of terms. \n",
    "1. Create a sub-loop to iterate the terms array. \n",
    "  * In each sub-loop, you'll check if the current term is already contained in `bag_of_words`. If not in `bag_of_words`, append it to the array."
   ]
  },
  {
   "cell_type": "code",
   "execution_count": 6,
   "metadata": {},
   "outputs": [
    {
     "name": "stdout",
     "output_type": "stream",
     "text": [
      "I am a student at Ironhack.\n",
      "I love Ironhack.\n",
      "Ironhack is cool.\n"
     ]
    }
   ],
   "source": [
    "# Write your code here\n",
    "for item in corpus:\n",
    "    print(item)"
   ]
  },
  {
   "cell_type": "code",
   "execution_count": 7,
   "metadata": {},
   "outputs": [
    {
     "name": "stdout",
     "output_type": "stream",
     "text": [
      "['am', 'love', 'ironhack', 'student', 'at', 'a', 'i', 'cool', 'is']\n"
     ]
    }
   ],
   "source": [
    "a = set(low)   #Set stores a single copy of the duplicate values into it. This property of set can be used to get unique values from a list in Python\n",
    "bag_of_words = list(a)\n",
    "print(bag_of_words)"
   ]
  },
  {
   "cell_type": "markdown",
   "metadata": {},
   "source": [
    "Print `bag_of_words`. You should see: \n",
    "\n",
    "```['ironhack', 'is', 'cool', 'i', 'love', 'am', 'a', 'student', 'at']```\n",
    "\n",
    "If not, fix your code in the previous cell."
   ]
  },
  {
   "cell_type": "code",
   "execution_count": null,
   "metadata": {},
   "outputs": [],
   "source": []
  },
  {
   "cell_type": "markdown",
   "metadata": {},
   "source": [
    "Now we define an empty array called `term_freq`. Loop `corpus` for a second time. In each loop, create a sub-loop to iterate the terms in `bag_of_words`. Count how many times each term appears in each doc of `corpus`. Append the term-frequency array to `term_freq`."
   ]
  },
  {
   "cell_type": "code",
   "execution_count": 8,
   "metadata": {},
   "outputs": [
    {
     "data": {
      "text/plain": [
       "list"
      ]
     },
     "execution_count": 8,
     "metadata": {},
     "output_type": "execute_result"
    }
   ],
   "source": [
    "type(corpus)"
   ]
  },
  {
   "cell_type": "code",
   "execution_count": 9,
   "metadata": {},
   "outputs": [
    {
     "data": {
      "text/plain": [
       "['I am a student at Ironhack.', 'I love Ironhack.', 'Ironhack is cool.']"
      ]
     },
     "execution_count": 9,
     "metadata": {},
     "output_type": "execute_result"
    }
   ],
   "source": [
    "corpus"
   ]
  },
  {
   "cell_type": "code",
   "execution_count": 10,
   "metadata": {},
   "outputs": [
    {
     "name": "stdout",
     "output_type": "stream",
     "text": [
      "('I am a student at Ironhack.', 27)\n",
      "('I love Ironhack.', 16)\n",
      "('Ironhack is cool.', 17)\n"
     ]
    }
   ],
   "source": [
    "for item in corpus:\n",
    "    print((item, len(item)))"
   ]
  },
  {
   "cell_type": "code",
   "execution_count": 11,
   "metadata": {},
   "outputs": [
    {
     "data": {
      "text/plain": [
       "[[1, 0, 0, 1, 1, 1, 0, 0, 0],\n",
       " [0, 1, 0, 0, 0, 0, 0, 0, 0],\n",
       " [0, 0, 0, 0, 0, 0, 0, 0, 1]]"
      ]
     },
     "execution_count": 11,
     "metadata": {},
     "output_type": "execute_result"
    }
   ],
   "source": [
    "# Write your code here\n",
    "term_freq = []\n",
    "\n",
    "term_freq = [[sentence.split(' ').count(words) for words in bag_of_words] for sentence in corpus]\n",
    "term_freq"
   ]
  },
  {
   "cell_type": "markdown",
   "metadata": {},
   "source": [
    "Print `term_freq`. You should see:\n",
    "\n",
    "```[[1, 1, 1, 0, 0, 0, 0, 0, 0], [1, 0, 0, 1, 1, 0, 0, 0, 0], [1, 0, 0, 1, 0, 1, 1, 1, 1]]```"
   ]
  },
  {
   "cell_type": "markdown",
   "metadata": {},
   "source": [
    "**If your output is correct, congratulations! You've solved the challenge!**\n",
    "\n",
    "If not, go back and check for errors in your code."
   ]
  }
 ],
 "metadata": {
  "kernelspec": {
   "display_name": "Python 3.9.12 ('base')",
   "language": "python",
   "name": "python3"
  },
  "language_info": {
   "codemirror_mode": {
    "name": "ipython",
    "version": 3
   },
   "file_extension": ".py",
   "mimetype": "text/x-python",
   "name": "python",
   "nbconvert_exporter": "python",
   "pygments_lexer": "ipython3",
   "version": "3.9.12"
  },
  "vscode": {
   "interpreter": {
    "hash": "b2a2b8698d3474f38e9a1ba9d54ec85347e811d97918b8fc315ec0c82e60adc7"
   }
  }
 },
 "nbformat": 4,
 "nbformat_minor": 2
}
